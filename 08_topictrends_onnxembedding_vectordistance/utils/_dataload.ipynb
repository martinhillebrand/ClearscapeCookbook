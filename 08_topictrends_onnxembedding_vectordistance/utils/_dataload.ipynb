{
 "cells": [
  {
   "cell_type": "code",
   "execution_count": 1,
   "id": "102d66ea-c12a-489d-a481-24e8b688eb2e",
   "metadata": {},
   "outputs": [],
   "source": [
    "import pandas as pd\n",
    "import teradataml as tdml"
   ]
  },
  {
   "cell_type": "markdown",
   "id": "8c2c36c3-1e15-448c-81db-01a5e7308591",
   "metadata": {},
   "source": [
    "# check if data already exists"
   ]
  },
  {
   "cell_type": "code",
   "execution_count": 1,
   "id": "01668d2e-32e6-49da-8869-468e6166543e",
   "metadata": {},
   "outputs": [],
   "source": [
    "complaints_uploaded = False\n",
    "embeddings_uploaded = False"
   ]
  },
  {
   "cell_type": "code",
   "execution_count": null,
   "id": "f7873bd0-3ac4-4574-b3f4-92c8695f785f",
   "metadata": {},
   "outputs": [],
   "source": [
    "try:\n",
    "    DF_complaints = tdml.DataFrame(\"consumer_complaints\")\n",
    "    print(\"consumer_complaints already exists\")\n",
    "    if DF_complaints.shape == (80771, 19):\n",
    "        complaints_uploaded = True\n",
    "        print(\"consumer_complaints has got the right shape\")\n",
    "        \n",
    "except:\n",
    "    pass\n",
    "    "
   ]
  },
  {
   "cell_type": "code",
   "execution_count": null,
   "id": "ae41ca39-51e5-42a3-90b2-194f33d24142",
   "metadata": {},
   "outputs": [],
   "source": [
    "try:\n",
    "    DF_embeddings = tdml.DataFrame(\"consumer_embeddings\")    \n",
    "    print(\"consumer_embeddings already exists\")\n",
    "    if DF_embeddings.shape == (80765, 769):\n",
    "        embeddings_uploaded = True\n",
    "        print(\"consumer_embeddings has got the right shape\")\n",
    "except:\n",
    "    pass\n",
    "    "
   ]
  },
  {
   "cell_type": "markdown",
   "id": "3330503c-0660-4b36-b6f2-ffb8b11d6881",
   "metadata": {},
   "source": [
    "# read and upload complaints"
   ]
  },
  {
   "cell_type": "code",
   "execution_count": null,
   "id": "fd80fbdc-1815-4320-a828-087e55bdbfc1",
   "metadata": {},
   "outputs": [],
   "source": [
    "if not complaints_uploaded:\n",
    "    df_complaints = pd.read_parquet(\"data_raw/consumer-complaints.parquet\")\n",
    "    df_complaints.columns = ['row_id',\n",
    "         'date_received',\n",
    "         'product',\n",
    "         'subproduct',\n",
    "         'issue',\n",
    "         'subissue',\n",
    "         'consumer_complaint_narrative',\n",
    "         'company_public_response',\n",
    "         'company',\n",
    "         'state',\n",
    "         'zip_code',\n",
    "         'tags',\n",
    "         'consumer_consent_provided',\n",
    "         'submitted_via',\n",
    "         'date_sent_to_company',\n",
    "         'company_response_to_consumer',\n",
    "         'timely_response',\n",
    "         'consumer_disputed',\n",
    "         'complaint_id']\n",
    "    complaints_uploaded\n",
    "\n",
    "    df_complaints[\"date_received\"] = pd.to_datetime(df_complaints.date_received)\n",
    "    df_complaints[\"date_sent_to_company\"] = pd.to_datetime(df_complaints.date_sent_to_company)\n",
    "    print(\"start upload: consumer_complaints\")\n",
    "    tdml.copy_to_sql(df_complaints, \"consumer_complaints\", \n",
    "                     types = {\"consumer_complaint_narrative\":tdml.VARCHAR(40000),\n",
    "                             \"zip_code\":tdml.VARCHAR(10),\n",
    "                             \"date_received\":tdml.DATE(),\n",
    "                              \"date_sent_to_company\":tdml.DATE(),\n",
    "                             },\n",
    "                     primary_index=\"row_id\",\n",
    "                     if_exists=\"fail\"\n",
    "                    )\n",
    "    print(\"finished upload: consumer_complaints\")"
   ]
  },
  {
   "cell_type": "markdown",
   "id": "3f230d4e-2e3e-437a-8f77-d2ff9faa6cc2",
   "metadata": {},
   "source": [
    "# read and upload embeddings "
   ]
  },
  {
   "cell_type": "code",
   "execution_count": null,
   "id": "c524a8a5-266d-4214-8239-41e769b654db",
   "metadata": {},
   "outputs": [],
   "source": [
    "if not embeddings_uploaded:\n",
    "    list_dfs = []\n",
    "    for i in range (1,10):\n",
    "        list_dfs.append(pd.read_parquet(f\"data_embeddings/embeddings_{i}.parquet\"))\n",
    "    df_embeddings = pd.concat(list_dfs)\n",
    "    print(\"start upload: consumer_embeddings\")\n",
    "    tdml.copy_to_sql(df_embeddings, \"consumer_embeddings\", \n",
    "                 primary_index=\"row_id\",\n",
    "                 if_exists=\"fail\"\n",
    "                )\n",
    "    print(\"finished upload: consumer_embeddings\")"
   ]
  }
 ],
 "metadata": {
  "kernelspec": {
   "display_name": "Python 3 (ipykernel)",
   "language": "python",
   "name": "python3"
  },
  "language_info": {
   "codemirror_mode": {
    "name": "ipython",
    "version": 3
   },
   "file_extension": ".py",
   "mimetype": "text/x-python",
   "name": "python",
   "nbconvert_exporter": "python",
   "pygments_lexer": "ipython3",
   "version": "3.10.10"
  }
 },
 "nbformat": 4,
 "nbformat_minor": 5
}
