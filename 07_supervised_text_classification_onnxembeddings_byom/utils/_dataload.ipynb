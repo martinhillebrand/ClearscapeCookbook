{
 "cells": [
  {
   "cell_type": "code",
   "execution_count": null,
   "id": "102d66ea-c12a-489d-a481-24e8b688eb2e",
   "metadata": {},
   "outputs": [],
   "source": [
    "import pandas as pd\n",
    "import teradataml as tdml\n",
    "import zipfile"
   ]
  },
  {
   "cell_type": "markdown",
   "id": "3330503c-0660-4b36-b6f2-ffb8b11d6881",
   "metadata": {},
   "source": [
    "# read data from CSV"
   ]
  },
  {
   "cell_type": "code",
   "execution_count": null,
   "id": "842e3feb-8d89-47e4-a08a-816085b0bc42",
   "metadata": {},
   "outputs": [],
   "source": [
    "df_train = pd.read_csv(\"data_raw/medical_tc_train.csv\")\n",
    "df_train[\"row_id\"] = df_train.index\n",
    "df_train = df_train[[\"row_id\",\"medical_abstract\",\"condition_label\"]]\n",
    "df_test = pd.read_csv(\"data_raw/medical_tc_test.csv\")\n",
    "df_test[\"row_id\"] = df_test.index + len(df_train)\n",
    "df_test = df_test[[\"row_id\",\"medical_abstract\",\"condition_label\"]]\n",
    "df_labels = pd.read_csv(\"data_raw/medical_tc_labels.csv\")"
   ]
  },
  {
   "cell_type": "code",
   "execution_count": null,
   "id": "e2966ddd-8bc9-49e5-92bd-28759df3d815",
   "metadata": {},
   "outputs": [],
   "source": [
    "zip_file_path = \"data_embeddings/medical_train_embedding.csv.zip\"\n",
    "with zipfile.ZipFile(zip_file_path, 'r') as z:\n",
    "    with z.open(\"medical_train_embedding.csv\") as f:\n",
    "        df_train_embeddings = pd.read_csv(f)"
   ]
  },
  {
   "cell_type": "code",
   "execution_count": null,
   "id": "4841a584-21ab-462f-946b-5884a8c38c87",
   "metadata": {},
   "outputs": [],
   "source": [
    "df_test_embeddings = pd.read_csv(\"data_embeddings/medical_test_embedding.csv\")"
   ]
  },
  {
   "cell_type": "markdown",
   "id": "d0d3ee17-de7a-4eb7-839f-b74be26a06d8",
   "metadata": {},
   "source": [
    "# upload data to Vantage"
   ]
  },
  {
   "cell_type": "code",
   "execution_count": null,
   "id": "fdf2761f-bd55-4b2d-9420-39024975f9c6",
   "metadata": {},
   "outputs": [],
   "source": [
    "%%capture\n",
    "tdml.copy_to_sql(df_train, \"medical_train\",primary_index=\"row_id\", if_exists=\"replace\", types = {\"medical_abstract\":tdml.VARCHAR(10000)})\n",
    "\n",
    "tdml.copy_to_sql(df_test, \"medical_test\",primary_index=\"row_id\", if_exists=\"replace\", types = {\"medical_abstract\":tdml.VARCHAR(10000)})\n",
    "\n",
    "tdml.copy_to_sql(df_labels, \"medical_labels\", if_exists=\"replace\")\n",
    "\n",
    "tdml.copy_to_sql(df_train_embeddings, \"medical_train_embedding\",primary_index=\"row_id\", if_exists=\"replace\", types = {\"medical_abstract\":tdml.VARCHAR(10000)})\n",
    "\n",
    "tdml.copy_to_sql(df_test_embeddings, \"medical_test_embedding\",primary_index=\"row_id\", if_exists=\"replace\", types = {\"medical_abstract\":tdml.VARCHAR(10000)})"
   ]
  }
 ],
 "metadata": {
  "kernelspec": {
   "display_name": "Python 3 (ipykernel)",
   "language": "python",
   "name": "python3"
  },
  "language_info": {
   "codemirror_mode": {
    "name": "ipython",
    "version": 3
   },
   "file_extension": ".py",
   "mimetype": "text/x-python",
   "name": "python",
   "nbconvert_exporter": "python",
   "pygments_lexer": "ipython3",
   "version": "3.12.0"
  }
 },
 "nbformat": 4,
 "nbformat_minor": 5
}
