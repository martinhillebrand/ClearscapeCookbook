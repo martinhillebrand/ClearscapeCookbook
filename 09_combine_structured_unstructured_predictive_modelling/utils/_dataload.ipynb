{
 "cells": [
  {
   "cell_type": "code",
   "execution_count": null,
   "id": "102d66ea-c12a-489d-a481-24e8b688eb2e",
   "metadata": {},
   "outputs": [],
   "source": [
    "import pandas as pd\n",
    "import teradataml as tdml"
   ]
  },
  {
   "cell_type": "markdown",
   "id": "3330503c-0660-4b36-b6f2-ffb8b11d6881",
   "metadata": {},
   "source": [
    "# read and upload features"
   ]
  },
  {
   "cell_type": "code",
   "execution_count": null,
   "id": "f3112fae-afc1-4056-93a7-7633ab112705",
   "metadata": {
    "scrolled": true
   },
   "outputs": [],
   "source": [
    "df_ADS = pd.read_parquet(\"data/pump_failure_features.parquet\")"
   ]
  },
  {
   "cell_type": "code",
   "execution_count": null,
   "id": "6e471a58-af4c-4019-ba15-bb53ad5b47e7",
   "metadata": {},
   "outputs": [],
   "source": [
    "df_train = df_ADS.sample(frac=0.8,random_state=39)"
   ]
  },
  {
   "cell_type": "code",
   "execution_count": null,
   "id": "2dc0bcee-3895-46ab-be1d-fb48b84b1ef2",
   "metadata": {},
   "outputs": [],
   "source": [
    "df_test = df_ADS.drop(df_train.index)"
   ]
  },
  {
   "cell_type": "code",
   "execution_count": null,
   "id": "fd80fbdc-1815-4320-a828-087e55bdbfc1",
   "metadata": {},
   "outputs": [],
   "source": [
    "print(\"start upload: pump_failure_train\")\n",
    "tdml.copy_to_sql(df_train, \"pump_failure_train\", \n",
    "                 primary_index=\"row_id\",\n",
    "                 if_exists=\"replace\"\n",
    "                )\n",
    "print(\"finished upload: pump_failure_train\")\n",
    "\n",
    "print(\"start upload: pump_failure_test\")\n",
    "tdml.copy_to_sql(df_test, \"pump_failure_test\", \n",
    "                 primary_index=\"row_id\",\n",
    "                 if_exists=\"replace\"\n",
    "                )\n",
    "print(\"finished upload: pump_failure_test\")"
   ]
  },
  {
   "cell_type": "markdown",
   "id": "3f230d4e-2e3e-437a-8f77-d2ff9faa6cc2",
   "metadata": {},
   "source": [
    "# read and upload embeddings "
   ]
  },
  {
   "cell_type": "code",
   "execution_count": null,
   "id": "080ca8df-a8f1-4314-8c35-6b5f0bec5eb7",
   "metadata": {},
   "outputs": [],
   "source": [
    "df_embeddings = pd.read_parquet(\"data/operator_log_embeddings.parquet\")"
   ]
  },
  {
   "cell_type": "code",
   "execution_count": null,
   "id": "0ad7094d-c5e2-403b-b25d-caeba4d8e210",
   "metadata": {},
   "outputs": [],
   "source": [
    "emb_train = df_embeddings.drop(df_test.index)\n",
    "emb_test = df_embeddings.drop(df_train.index)"
   ]
  },
  {
   "cell_type": "code",
   "execution_count": null,
   "id": "2603519b-3be2-4b11-9d4d-1867e9061649",
   "metadata": {},
   "outputs": [],
   "source": [
    "print(\"start upload: operator_log_embeddings_train\")\n",
    "tdml.copy_to_sql(emb_train, \"operator_log_embeddings_train\", \n",
    "                 primary_index=\"row_id\",\n",
    "                 if_exists=\"replace\"\n",
    "                )\n",
    "print(\"finished upload: operator_log_embeddings_train\")\n",
    "\n",
    "print(\"start upload: operator_log_embeddings_test\")\n",
    "tdml.copy_to_sql(emb_test, \"operator_log_embeddings_test\", \n",
    "                 primary_index=\"row_id\",\n",
    "                 if_exists=\"replace\"\n",
    "                )\n",
    "print(\"finished upload: operator_log_embeddings_test\")"
   ]
  }
 ],
 "metadata": {
  "kernelspec": {
   "display_name": "Python 3 (ipykernel)",
   "language": "python",
   "name": "python3"
  },
  "language_info": {
   "codemirror_mode": {
    "name": "ipython",
    "version": 3
   },
   "file_extension": ".py",
   "mimetype": "text/x-python",
   "name": "python",
   "nbconvert_exporter": "python",
   "pygments_lexer": "ipython3",
   "version": "3.10.10"
  }
 },
 "nbformat": 4,
 "nbformat_minor": 5
}
